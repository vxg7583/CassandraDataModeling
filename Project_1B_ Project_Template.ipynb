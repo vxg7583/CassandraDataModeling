{
 "cells": [
  {
   "cell_type": "markdown",
   "metadata": {
    "editable": true
   },
   "source": [
    "# Part I. ETL Pipeline for Pre-Processing the Files"
   ]
  },
  {
   "cell_type": "markdown",
   "metadata": {
    "editable": true
   },
   "source": [
    "#### Import Python packages "
   ]
  },
  {
   "cell_type": "code",
   "execution_count": 52,
   "metadata": {
    "editable": true
   },
   "outputs": [],
   "source": [
    "# Import Python packages \n",
    "import pandas as pd\n",
    "import cassandra\n",
    "import re\n",
    "import os\n",
    "import glob\n",
    "import numpy as np\n",
    "import json\n",
    "import csv"
   ]
  },
  {
   "cell_type": "markdown",
   "metadata": {
    "editable": true
   },
   "source": [
    "#### Creating list of filepaths to process original event csv data files"
   ]
  },
  {
   "cell_type": "code",
   "execution_count": 53,
   "metadata": {
    "editable": true
   },
   "outputs": [
    {
     "name": "stdout",
     "output_type": "stream",
     "text": [
      "/home/workspace\n",
      "/home/workspace/event_data/2018-11-30-events.csv\n",
      "/home/workspace/event_data/2018-11-23-events.csv\n",
      "/home/workspace/event_data/2018-11-22-events.csv\n",
      "/home/workspace/event_data/2018-11-29-events.csv\n",
      "/home/workspace/event_data/2018-11-11-events.csv\n",
      "/home/workspace/event_data/2018-11-14-events.csv\n",
      "/home/workspace/event_data/2018-11-20-events.csv\n",
      "/home/workspace/event_data/2018-11-15-events.csv\n",
      "/home/workspace/event_data/2018-11-05-events.csv\n",
      "/home/workspace/event_data/2018-11-28-events.csv\n",
      "/home/workspace/event_data/2018-11-25-events.csv\n",
      "/home/workspace/event_data/2018-11-16-events.csv\n",
      "/home/workspace/event_data/2018-11-18-events.csv\n",
      "/home/workspace/event_data/2018-11-24-events.csv\n",
      "/home/workspace/event_data/2018-11-04-events.csv\n",
      "/home/workspace/event_data/2018-11-19-events.csv\n",
      "/home/workspace/event_data/2018-11-26-events.csv\n",
      "/home/workspace/event_data/2018-11-12-events.csv\n",
      "/home/workspace/event_data/2018-11-27-events.csv\n",
      "/home/workspace/event_data/2018-11-06-events.csv\n",
      "/home/workspace/event_data/2018-11-09-events.csv\n",
      "/home/workspace/event_data/2018-11-03-events.csv\n",
      "/home/workspace/event_data/2018-11-21-events.csv\n",
      "/home/workspace/event_data/2018-11-07-events.csv\n",
      "/home/workspace/event_data/2018-11-01-events.csv\n",
      "/home/workspace/event_data/2018-11-13-events.csv\n",
      "/home/workspace/event_data/2018-11-17-events.csv\n",
      "/home/workspace/event_data/2018-11-08-events.csv\n",
      "/home/workspace/event_data/2018-11-10-events.csv\n",
      "/home/workspace/event_data/2018-11-02-events.csv\n",
      "/home/workspace/event_data/2018-11-30-events.csv\n",
      "/home/workspace/event_data/2018-11-23-events.csv\n",
      "/home/workspace/event_data/2018-11-22-events.csv\n",
      "/home/workspace/event_data/2018-11-29-events.csv\n",
      "/home/workspace/event_data/2018-11-11-events.csv\n",
      "/home/workspace/event_data/2018-11-14-events.csv\n",
      "/home/workspace/event_data/2018-11-20-events.csv\n",
      "/home/workspace/event_data/2018-11-15-events.csv\n",
      "/home/workspace/event_data/2018-11-05-events.csv\n",
      "/home/workspace/event_data/2018-11-28-events.csv\n",
      "/home/workspace/event_data/2018-11-25-events.csv\n",
      "/home/workspace/event_data/2018-11-16-events.csv\n",
      "/home/workspace/event_data/2018-11-18-events.csv\n",
      "/home/workspace/event_data/2018-11-24-events.csv\n",
      "/home/workspace/event_data/2018-11-04-events.csv\n",
      "/home/workspace/event_data/2018-11-19-events.csv\n",
      "/home/workspace/event_data/2018-11-26-events.csv\n",
      "/home/workspace/event_data/2018-11-12-events.csv\n",
      "/home/workspace/event_data/2018-11-27-events.csv\n",
      "/home/workspace/event_data/2018-11-06-events.csv\n",
      "/home/workspace/event_data/2018-11-09-events.csv\n",
      "/home/workspace/event_data/2018-11-03-events.csv\n",
      "/home/workspace/event_data/2018-11-21-events.csv\n",
      "/home/workspace/event_data/2018-11-07-events.csv\n",
      "/home/workspace/event_data/2018-11-01-events.csv\n",
      "/home/workspace/event_data/2018-11-13-events.csv\n",
      "/home/workspace/event_data/2018-11-17-events.csv\n",
      "/home/workspace/event_data/2018-11-08-events.csv\n",
      "/home/workspace/event_data/2018-11-10-events.csv\n",
      "/home/workspace/event_data/2018-11-02-events.csv\n"
     ]
    }
   ],
   "source": [
    "# checking your current working directory\n",
    "print(os.getcwd())\n",
    "\n",
    "# Get current folder and subfolder event data\n",
    "filepath = os.getcwd() + '/event_data'\n",
    "\n",
    "# Create a for loop to create a list of files and collect each filepath\n",
    "for root, dirs, files in os.walk(filepath):\n",
    "    # using os.path.join(root,'*') may include only hidden files having path .ipyn...../filename/\n",
    "    file_path_list = glob.glob(os.path.join(filepath,'*'))\n",
    "    print(*file_path_list, sep='\\n')"
   ]
  },
  {
   "cell_type": "code",
   "execution_count": 54,
   "metadata": {
    "editable": true
   },
   "outputs": [
    {
     "data": {
      "text/plain": [
       "30"
      ]
     },
     "execution_count": 54,
     "metadata": {},
     "output_type": "execute_result"
    }
   ],
   "source": [
    "# Making sure all files are considered for loading\n",
    "len(file_path_list)"
   ]
  },
  {
   "cell_type": "markdown",
   "metadata": {
    "editable": true
   },
   "source": [
    "#### Processing the files to create the data file csv that will be used for Apache Casssandra tables"
   ]
  },
  {
   "cell_type": "code",
   "execution_count": 55,
   "metadata": {
    "editable": true
   },
   "outputs": [
    {
     "name": "stdout",
     "output_type": "stream",
     "text": [
      "##################################################\n",
      "8056\n",
      "##################################################\n"
     ]
    }
   ],
   "source": [
    "# initiating an empty list of rows that will be generated from each file\n",
    "full_data_rows_list = [] \n",
    "    \n",
    "# for every filepath in the file path list \n",
    "for f in file_path_list:\n",
    "\n",
    "    # reading csv file \n",
    "    with open(f, 'r', encoding = 'utf8', newline='') as csvfile: \n",
    "        # creating a csv reader object \n",
    "        csvreader = csv.reader(csvfile) \n",
    "        next(csvreader)\n",
    "        \n",
    "        #  extracting each data row one by one and append it    \n",
    "        \n",
    "        for line in csvreader:\n",
    "            \n",
    "            full_data_rows_list.append(line) \n",
    "            \n",
    "# uncomment the code below if you would like to get total number of rows \n",
    "# print(\"#\"*50)\n",
    "# print(len(full_data_rows_list))\n",
    "# print(\"#\"*50)\n",
    "\n",
    "# uncomment the code below if you would like to check to see what the list of event data rows will look like\n",
    "# print(full_data_rows_list)\n",
    "\n",
    "\n",
    "# creating a smaller event data csv file called event_datafile_full csv that will be used to insert data into the \\\n",
    "# Apache Cassandra tables\n",
    "csv.register_dialect('myDialect', quoting=csv.QUOTE_ALL, skipinitialspace=True)\n",
    "\n",
    "with open('event_datafile_new.csv', 'w', encoding = 'utf8', newline='') as f:\n",
    "    writer = csv.writer(f, dialect='myDialect')\n",
    "    writer.writerow(['artist','firstName','gender','itemInSession','lastName','length',\\\n",
    "                'level','location','sessionId','song','userId'])\n",
    "    \n",
    "    for row in full_data_rows_list:\n",
    "        if (row[0] == ''):\n",
    "            continue\n",
    "        writer.writerow((row[0], row[2], row[3], row[4], row[5], row[6], row[7], row[8], row[12], row[13], row[16]))\n"
   ]
  },
  {
   "cell_type": "code",
   "execution_count": 56,
   "metadata": {
    "editable": true
   },
   "outputs": [
    {
     "name": "stdout",
     "output_type": "stream",
     "text": [
      "6821\n"
     ]
    }
   ],
   "source": [
    "# check the number of rows in your csv file. The row count includes header row\n",
    "with open('event_datafile_new.csv', 'r', encoding = 'utf8') as f:\n",
    "    print(sum(1 for line in f)) "
   ]
  },
  {
   "cell_type": "markdown",
   "metadata": {
    "editable": true
   },
   "source": [
    "<font color = \"blue\"> The event_datafile_new.csv contains the following columns: </font>\n",
    "- artist \n",
    "- firstName of user\n",
    "- gender of user\n",
    "- item number in session\n",
    "- last name of user\n",
    "- length of the song\n",
    "- level (paid or free song)\n",
    "- location of the user\n",
    "- sessionId\n",
    "- song title\n",
    "- userId\n",
    "\n",
    "The image below is a screenshot of what the denormalized data should appear like in the <font color=red>**event_datafile_new.csv**</font> after the code above is run:<br>\n",
    "\n",
    "<img src=\"images/image_event_datafile_new.jpg\">"
   ]
  },
  {
   "cell_type": "markdown",
   "metadata": {
    "editable": true
   },
   "source": [
    "#### Creating a Cluster"
   ]
  },
  {
   "cell_type": "code",
   "execution_count": 57,
   "metadata": {
    "editable": true
   },
   "outputs": [],
   "source": [
    "# This should make a connection to a Cassandra instance your local machine \n",
    "# (127.0.0.1)\n",
    "\n",
    "from cassandra.cluster import Cluster\n",
    "\n",
    "try:\n",
    "    cluster = Cluster(['127.0.0.1']) # need locally installed instance of cassandra\n",
    "    session = cluster.connect() # need a session\n",
    "except Exception as e:\n",
    "    print(e)"
   ]
  },
  {
   "cell_type": "markdown",
   "metadata": {
    "editable": true
   },
   "source": [
    "#### Create Keyspace"
   ]
  },
  {
   "cell_type": "code",
   "execution_count": 58,
   "metadata": {
    "editable": true
   },
   "outputs": [],
   "source": [
    "try:\n",
    "    session.execute(\"\"\"\n",
    "    CREATE KEYSPACE IF NOT EXISTS apachevikrant\n",
    "    WITH REPLICATION = \n",
    "    {'class':'SimpleStrategy', 'replication_factor':1} \"\"\")\n",
    "except Exception as e:\n",
    "    print(e)"
   ]
  },
  {
   "cell_type": "markdown",
   "metadata": {
    "editable": true
   },
   "source": [
    "#### Set Keyspace"
   ]
  },
  {
   "cell_type": "code",
   "execution_count": 59,
   "metadata": {
    "editable": true
   },
   "outputs": [],
   "source": [
    "try:\n",
    "    session.set_keyspace('apachevikrant')\n",
    "except Exception as e:\n",
    "    print(e)"
   ]
  },
  {
   "cell_type": "markdown",
   "metadata": {
    "editable": true
   },
   "source": [
    "<em>\n",
    "<ins> **Given Query Need** </ins>\n",
    "\n",
    "<font color = \"brown\"> **1. Give me the artist, song title and song's length in the music app history that was heard during  sessionId = 338, and itemInSession  = 4** </font>\n",
    "\n",
    "\n",
    "<font color = \"brown\"> **2. Give me only the following: name of artist, song (sorted by itemInSession) and user (first and last name) for userid = 10, sessionid = 182** </font>\n",
    "    \n",
    "\n",
    "<font color = \"brown\"> **3. Give me every user name (first and last) in my music app history who listened to the song 'All Hands Against His Own'** </font>\n",
    "\n",
    "</em>\n"
   ]
  },
  {
   "cell_type": "markdown",
   "metadata": {
    "editable": true
   },
   "source": [
    "<br>"
   ]
  },
  {
   "cell_type": "markdown",
   "metadata": {
    "editable": true
   },
   "source": [
    "# CREATE AND TEST TABLE FOR QUERY 1"
   ]
  },
  {
   "cell_type": "markdown",
   "metadata": {
    "editable": true
   },
   "source": [
    "<hr>"
   ]
  },
  {
   "cell_type": "markdown",
   "metadata": {
    "editable": true
   },
   "source": [
    "<font color = \"red\">**For this query, sessionId AND itemInSession were used as a composite primary key because we needed to fetch the artist, song and song length based on a given session and item in session. This will result in the underlying data be stored on separate nodes separated by session id and item in session columns. This partitioning would help cassandra to know which node to go to based on the where condition in our CQL hence resulting in fast data retrieval.**</font> "
   ]
  },
  {
   "cell_type": "markdown",
   "metadata": {
    "editable": true
   },
   "source": [
    "<hr>"
   ]
  },
  {
   "cell_type": "code",
   "execution_count": 60,
   "metadata": {
    "editable": true
   },
   "outputs": [],
   "source": [
    "\n",
    "query1 = \"\"\"\n",
    "\n",
    "CREATE TABLE IF NOT EXISTS artist_song_session (sessionId int, itemInSession int, artist text, song text, length float, \\\n",
    "                                            PRIMARY KEY (sessionId, itemInSession))\n",
    "\n",
    "\"\"\"\n",
    "\n",
    "try:\n",
    "    session.execute(query1)\n",
    "except Exception as e:\n",
    "    print(e)"
   ]
  },
  {
   "cell_type": "code",
   "execution_count": 61,
   "metadata": {
    "editable": true
   },
   "outputs": [],
   "source": [
    "file = 'event_datafile_new.csv'\n",
    "\n",
    "with open(file, encoding = 'utf8') as f:\n",
    "    csvreader = csv.reader(f)\n",
    "    next(csvreader) # skip header\n",
    "    for line in csvreader:\n",
    "        query = \"INSERT INTO artist_song_session (sessionId, itemInSession, artist, song, length)\"\n",
    "        query = query + \"VALUES (%s, %s, %s, %s, %s)\"\n",
    "        session.execute(query, (int(line[8]), int(line[3]), line[0], line[9], float(line[5]))) # need to cast length as float due to csvreader output"
   ]
  },
  {
   "cell_type": "markdown",
   "metadata": {
    "editable": true
   },
   "source": [
    "#### Do a SELECT to verify that the data have been inserted into each table"
   ]
  },
  {
   "cell_type": "code",
   "execution_count": 63,
   "metadata": {
    "editable": true,
    "scrolled": true
   },
   "outputs": [
    {
     "name": "stdout",
     "output_type": "stream",
     "text": [
      "Stephen Lynch Jim Henson's Dead 182.856689453125 829 0\n"
     ]
    }
   ],
   "source": [
    "query = \"select artist, song, length, sessionid, iteminsession from artist_song_session where sessionId = 829 and itemInSession = 0\"\n",
    "try:\n",
    "    rows = session.execute(query)\n",
    "except Exception as e:\n",
    "    print(e)\n",
    "    \n",
    "for row in rows:\n",
    "    print (row.artist, row.song, row.length, row.sessionid, row.iteminsession)"
   ]
  },
  {
   "cell_type": "markdown",
   "metadata": {
    "editable": true
   },
   "source": [
    "<hr>"
   ]
  },
  {
   "cell_type": "markdown",
   "metadata": {
    "editable": true
   },
   "source": [
    "<br>"
   ]
  },
  {
   "cell_type": "markdown",
   "metadata": {
    "editable": true
   },
   "source": [
    "# CREATE AND TEST TABLE FOR QUERY 2"
   ]
  },
  {
   "cell_type": "markdown",
   "metadata": {
    "editable": true
   },
   "source": [
    "<font color = \"red\">**For this query, we will be using a composite key of userid and sessionid as our partition columns and include iteminsession as our clustering column. While the partition keys would split the dataset on different nodes making it easier for cassandra to identify a specific node based on our where condition, then clustering column will ensure results are returned in a sorted order(ascending) as needed.Unlike in query 1, here it makes more sense to use user id as one of our partition column as we need to fetch information based on a given user and session**</font> "
   ]
  },
  {
   "cell_type": "markdown",
   "metadata": {
    "editable": true
   },
   "source": [
    "<hr>"
   ]
  },
  {
   "cell_type": "markdown",
   "metadata": {
    "editable": true
   },
   "source": [
    "</hr>"
   ]
  },
  {
   "cell_type": "code",
   "execution_count": 64,
   "metadata": {
    "editable": true
   },
   "outputs": [],
   "source": [
    "\n",
    "query2 = \"\"\"\n",
    "\n",
    "CREATE TABLE IF NOT EXISTS artist_song_user_session (userid int, sessionid int, itemInSession int, artist text, song text, first_name text, last_name text, \\\n",
    "                                            PRIMARY KEY ((userid, sessionid), itemInSession))\n",
    "\n",
    "\"\"\"\n",
    "\n",
    "try:\n",
    "    session.execute(query2)\n",
    "except Exception as e:\n",
    "    print(e)\n",
    "\n",
    "                    "
   ]
  },
  {
   "cell_type": "code",
   "execution_count": 65,
   "metadata": {
    "editable": true
   },
   "outputs": [],
   "source": [
    "file = 'event_datafile_new.csv'\n",
    "\n",
    "with open(file, encoding = 'utf8') as f:\n",
    "    csvreader = csv.reader(f)\n",
    "    next(csvreader) # skip header\n",
    "    for line in csvreader:\n",
    "        query = \"INSERT INTO artist_song_user_session (userid, sessionid, itemInSession, artist, song, first_name, last_name)\"\n",
    "        query = query + \"VALUES (%s, %s, %s, %s, %s, %s, %s)\"\n",
    "        session.execute(query, (int(line[10]), int(line[8]), int(line[3]), line[0], line[9], line[1], line[4])) # need to cast length as float due to csvreader output"
   ]
  },
  {
   "cell_type": "code",
   "execution_count": 66,
   "metadata": {
    "editable": true
   },
   "outputs": [
    {
     "name": "stdout",
     "output_type": "stream",
     "text": [
      "Down To The Bone Keep On Keepin' On Sylvie Cruz\n",
      "Three Drives Greece 2000 Sylvie Cruz\n",
      "Sebastien Tellier Kilometer Sylvie Cruz\n",
      "Lonnie Gordon Catch You Baby (Steve Pitron & Max Sanna Radio Edit) Sylvie Cruz\n"
     ]
    }
   ],
   "source": [
    "query = \"select artist, song, first_name, last_name from artist_song_user_session where userid = 10 and sessionid = 182\"\n",
    "try:\n",
    "    rows = session.execute(query)\n",
    "except Exception as e:\n",
    "    print(e)\n",
    "    \n",
    "for row in rows:\n",
    "    print (row.artist, row.song, row.first_name, row.last_name)"
   ]
  },
  {
   "cell_type": "markdown",
   "metadata": {
    "editable": true
   },
   "source": [
    "<hr>"
   ]
  },
  {
   "cell_type": "markdown",
   "metadata": {
    "editable": true
   },
   "source": [
    "<br>"
   ]
  },
  {
   "cell_type": "markdown",
   "metadata": {
    "editable": true
   },
   "source": [
    "# CREATE AND TEST TABLE FOR QUERY 3"
   ]
  },
  {
   "cell_type": "markdown",
   "metadata": {
    "editable": true
   },
   "source": [
    "<font color = \"red\">**For this query, we use song as the partition colum along with userid since we need to fetch user information based on the song they have/are listened/listening to. We add userid as a partition column to make each row/event uniquley identifiable.**</font> "
   ]
  },
  {
   "cell_type": "markdown",
   "metadata": {
    "editable": true
   },
   "source": [
    "<hr>"
   ]
  },
  {
   "cell_type": "code",
   "execution_count": 68,
   "metadata": {
    "editable": true
   },
   "outputs": [],
   "source": [
    "\n",
    "query3 = \"\"\"\n",
    "\n",
    "CREATE TABLE IF NOT EXISTS user_by_song (song text, userid int, first_name text, last_name text,  \\\n",
    "                                           PRIMARY KEY (song, userid))\n",
    "\n",
    "\"\"\"\n",
    "\n",
    "try:\n",
    "    session.execute(query3)\n",
    "except Exception as e:\n",
    "    print(e)\n",
    "\n",
    "                    "
   ]
  },
  {
   "cell_type": "code",
   "execution_count": 69,
   "metadata": {
    "editable": true
   },
   "outputs": [],
   "source": [
    "file = 'event_datafile_new.csv'\n",
    "\n",
    "with open(file, encoding = 'utf8') as f:\n",
    "    csvreader = csv.reader(f)\n",
    "    next(csvreader) # skip header\n",
    "    for line in csvreader:\n",
    "        \n",
    "        query = \"INSERT INTO user_by_song (song, userid, first_name, last_name)\"\n",
    "        query = query + \"VALUES (%s, %s, %s, %s)\"\n",
    "        session.execute(query, (line[9], int(line[10]), line[1], line[4])) # need to cast length as float due to csvreader output"
   ]
  },
  {
   "cell_type": "code",
   "execution_count": 70,
   "metadata": {
    "editable": true
   },
   "outputs": [
    {
     "name": "stdout",
     "output_type": "stream",
     "text": [
      "Jacqueline Lynch 29\n",
      "Tegan Levine 80\n",
      "Sara Johnson 95\n"
     ]
    }
   ],
   "source": [
    "query = \"select first_name, last_name, userid from user_by_song where song = 'All Hands Against His Own'\"\n",
    "try:\n",
    "    rows = session.execute(query)\n",
    "except Exception as e:\n",
    "    print(e)\n",
    "    \n",
    "for row in rows:\n",
    "    print (row.first_name, row.last_name, row.userid)"
   ]
  },
  {
   "cell_type": "markdown",
   "metadata": {
    "editable": true
   },
   "source": [
    "### Drop the tables before closing out the sessions"
   ]
  },
  {
   "cell_type": "code",
   "execution_count": 74,
   "metadata": {
    "editable": true
   },
   "outputs": [],
   "source": [
    "##################################################\n",
    "query_drop = \"DROP TABLE artist_song_session\"\n",
    "try:\n",
    "    rows = session.execute(query_drop)\n",
    "except Exception as e:\n",
    "    print(e)\n",
    "    \n",
    "##################################################\n",
    "\n",
    "query_drop = \"DROP TABLE artist_song_user_session\"\n",
    "try:\n",
    "    rows = session.execute(query_drop)\n",
    "except Exception as e:\n",
    "    print(e)\n",
    "    \n",
    "##################################################\n",
    "query_drop = \"DROP TABLE user_by_song\"\n",
    "try:\n",
    "    rows = session.execute(query_drop)\n",
    "except Exception as e:\n",
    "    print(e)\n",
    "    "
   ]
  },
  {
   "cell_type": "markdown",
   "metadata": {
    "editable": true
   },
   "source": [
    "### Close the session and cluster connection¶"
   ]
  },
  {
   "cell_type": "code",
   "execution_count": 75,
   "metadata": {
    "editable": true
   },
   "outputs": [],
   "source": [
    "session.shutdown()\n",
    "cluster.shutdown()"
   ]
  },
  {
   "cell_type": "code",
   "execution_count": null,
   "metadata": {
    "editable": true
   },
   "outputs": [],
   "source": []
  }
 ],
 "metadata": {
  "kernelspec": {
   "display_name": "Python 3",
   "language": "python",
   "name": "python3"
  },
  "language_info": {
   "codemirror_mode": {
    "name": "ipython",
    "version": 3
   },
   "file_extension": ".py",
   "mimetype": "text/x-python",
   "name": "python",
   "nbconvert_exporter": "python",
   "pygments_lexer": "ipython3",
   "version": "3.6.3"
  }
 },
 "nbformat": 4,
 "nbformat_minor": 4
}
